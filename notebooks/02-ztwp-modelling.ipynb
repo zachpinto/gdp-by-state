{
 "cells": [
  {
   "cell_type": "code",
   "execution_count": null,
   "id": "28e8e9cc",
   "metadata": {},
   "outputs": [],
   "source": [
    "# Clustering Analysis of States with similar sector growth patterns over time\n",
    "# Convert \"1997\" and \"2021\" columns to numeric values\n",
    "data[\"1997\"] = pd.to_numeric(data[\"1997\"])\n",
    "data[\"2021\"] = pd.to_numeric(data[\"2021\"])\n",
    "\n",
    "# Calculate the overall GDP growth for each state\n",
    "state_gdp = data.groupby(\"STATE\").sum()\n",
    "state_gdp_growth = ((state_gdp[\"2021\"] - state_gdp[\"1997\"]) / state_gdp[\"1997\"]) * 100\n",
    "\n",
    "# Find the top 5 and bottom 5 states by GDP growth\n",
    "top_5_states = state_gdp_growth.nlargest(5)\n",
    "bottom_5_states = state_gdp_growth.nsmallest(5)\n",
    "\n",
    "# Loop through the states and print out the top 3 sectors with the highest growth rate\n",
    "for state in state_gdp_growth.index:\n",
    "    label = \"\"\n",
    "    if state in top_5_states.index:\n",
    "        label = \"(Top 5)\"\n",
    "    elif state in bottom_5_states.index:\n",
    "        label = \"(Bottom 5)\"\n",
    "    if label:\n",
    "        print(f\"\\nTop 3 growing sectors in {state} {label}:\")\n",
    "        state_data = data[data[\"STATE\"] == state]\n",
    "        sector_gdp = state_data.groupby(\"SECTOR\").sum()\n",
    "        sector_growth = ((sector_gdp[\"2021\"] - sector_gdp[\"1997\"]) / sector_gdp[\"1997\"]) * 100\n",
    "        top_3_sectors = sector_growth.nlargest(3)\n",
    "        print(top_3_sectors)"
   ]
  }
 ],
 "metadata": {
  "kernelspec": {
   "display_name": "Python 3 (ipykernel)",
   "language": "python",
   "name": "python3"
  },
  "language_info": {
   "codemirror_mode": {
    "name": "ipython",
    "version": 3
   },
   "file_extension": ".py",
   "mimetype": "text/x-python",
   "name": "python",
   "nbconvert_exporter": "python",
   "pygments_lexer": "ipython3",
   "version": "3.10.9"
  }
 },
 "nbformat": 4,
 "nbformat_minor": 5
}
